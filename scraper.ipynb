{
 "cells": [
  {
   "cell_type": "code",
   "execution_count": 86,
   "id": "a7776710-7066-4862-b911-fa90a6710f50",
   "metadata": {},
   "outputs": [],
   "source": [
    "import requests\n",
    "from bs4 import BeautifulSoup\n",
    "\n",
    "import time\n",
    "from bs4 import BeautifulSoup\n",
    "from selenium import webdriver\n",
    "from selenium.webdriver.common.keys import Keys\n",
    "from selenium.webdriver.chrome.options import Options"
   ]
  },
  {
   "cell_type": "code",
   "execution_count": 87,
   "id": "dada91a1-a186-4d9b-a62b-8f99a07c11a1",
   "metadata": {},
   "outputs": [],
   "source": [
    "# Base URL and parameters\n",
    "\n",
    "# FO-FO = _DictionaryId=1\n",
    "\n",
    "# FO-EN = _DictionaryId=2\n",
    "#base_url = \"https://sprotin.fo/dictionaries?_SearchInflections=0&_SearchDescriptions=0&_DictionaryId=2&_DictionaryPage=1&_SearchFor=\"\n",
    "\n",
    "# EN-FO = _DictionaryId=3\n",
    "base_url = \"https://sprotin.fo/dictionaries?_SearchInflections=0&_SearchDescriptions=0&_DictionaryId=3&_DictionaryPage=1&_SearchFor=\"\n",
    "search_terms = \"aábdðcefghiíjklmnoópqrstuúvyýæøwxz\"\n",
    "#search_terms = \"a\"\n",
    "\n",
    "end_search = \"&_l=fo&_Group=\"\n"
   ]
  },
  {
   "cell_type": "code",
   "execution_count": 88,
   "id": "0779e29b-d46c-4832-ae80-af741f0f9b5a",
   "metadata": {},
   "outputs": [],
   "source": [
    "def scrape_page(driver, search_term):\n",
    "    url = f\"{base_url}{search_term}{end_search}\"\n",
    "    driver.get(url)\n",
    "    time.sleep(2)  # Give the page time to load\n",
    "\n",
    "    return driver.page_source"
   ]
  },
  {
   "cell_type": "code",
   "execution_count": 89,
   "id": "4c3d3513-2b78-4ef6-adda-5483b856fb78",
   "metadata": {},
   "outputs": [],
   "source": [
    "def parse_page(html):\n",
    "    soup = BeautifulSoup(html, \"html.parser\")\n",
    "    words_container = soup.find(\"div\", class_=\"dictionary-results--words\")\n",
    "    if words_container:\n",
    "        words = words_container.find_all(\"div\", class_=\"dictionary-results--word-outer\")\n",
    "        for word in words:\n",
    "            title = word.find(\"div\", class_=\"dictionary-results--word-title\").get_text(strip=True)\n",
    "            description = word.find(\"div\", class_=\"dictionary-results--word-description\").get_text(strip=True)\n",
    "            yield title, description"
   ]
  },
  {
   "cell_type": "code",
   "execution_count": null,
   "id": "d18b9e8e-ca57-4f42-a6bc-9a0d94b277e1",
   "metadata": {},
   "outputs": [],
   "source": []
  },
  {
   "cell_type": "code",
   "execution_count": 90,
   "id": "72cee28c-8136-4b17-a0b5-c41fb447f177",
   "metadata": {},
   "outputs": [],
   "source": [
    "#for headless browser use this arguments\n",
    "options = Options()\n",
    "options.add_argument(\"--headless\")\n",
    "options.add_argument(\"--window-size=1920x1080\")\n",
    "driver = webdriver.Chrome(options=options)\n",
    "\n",
    "# Starts up chrome\n",
    "#driver = webdriver.Chrome()  \n",
    "\n",
    "search_terms = \"aábdðcefghiíjklmnoópqrstuúvyýæøwxz\"\n",
    "#search_terms = \"a\"\n",
    "\n",
    "try:\n",
    "    for term in search_terms:\n",
    "        html = scrape_page(driver, term)\n",
    "        entries = parse_page(html)\n",
    "        with open(f\"{term}_words.tsv\", \"w\", encoding=\"utf-8\") as file:\n",
    "            for title, description in entries:\n",
    "                file.write(f\"{title}\\t{description}\\n\")\n",
    "finally:\n",
    "    driver.quit()\n"
   ]
  }
 ],
 "metadata": {
  "kernelspec": {
   "display_name": "Python 3 (ipykernel)",
   "language": "python",
   "name": "python3"
  },
  "language_info": {
   "codemirror_mode": {
    "name": "ipython",
    "version": 3
   },
   "file_extension": ".py",
   "mimetype": "text/x-python",
   "name": "python",
   "nbconvert_exporter": "python",
   "pygments_lexer": "ipython3",
   "version": "3.10.12"
  }
 },
 "nbformat": 4,
 "nbformat_minor": 5
}
